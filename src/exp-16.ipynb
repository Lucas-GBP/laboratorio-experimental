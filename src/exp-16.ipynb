{
 "cells": [
  {
   "cell_type": "markdown",
   "metadata": {},
   "source": [
    "# Experiência 16 - Ótica de Micro-ondas"
   ]
  },
  {
   "cell_type": "code",
   "execution_count": 1,
   "metadata": {},
   "outputs": [],
   "source": [
    "import pandas as pd\n",
    "import matplotlib as plt\n",
    "from utils.medicoes import Me"
   ]
  },
  {
   "cell_type": "markdown",
   "metadata": {},
   "source": [
    "## Introdução ao Sistema de Micro-ondas"
   ]
  },
  {
   "cell_type": "code",
   "execution_count": 21,
   "metadata": {},
   "outputs": [],
   "source": [
    "# Tabela 1. Intensidade medida em função da distância entre transmissor e receptor\n",
    "tabela_1 = pd.DataFrame({\n",
    "    \"R (cm)\": [0, 0, 0, 0, 0, 0, 0],\n",
    "    \"Intensidade (mA)\": [0, 0, 0, 0, 0, 0, 0]\n",
    "})\n",
    "# Tabela 2. Intensidade medida em função do ângulo de orientação do receptor\n",
    "tabela_2 = pd.DataFrame({\n",
    "    \"Ângulo\": [0, 0, 0, 0, 0, 0, 0],\n",
    "    \"Intensidade (mA)\": [0, 0, 0, 0, 0, 0, 0]\n",
    "})"
   ]
  },
  {
   "cell_type": "markdown",
   "metadata": {},
   "source": [
    "## Reflexão"
   ]
  },
  {
   "cell_type": "code",
   "execution_count": 22,
   "metadata": {},
   "outputs": [],
   "source": [
    "# Tabela 3. Determinação do ângulo de reflexão\n",
    "tabela_3 = pd.DataFrame({\n",
    "    \"Ângulo de incidência\": [0, 0, 0, 0, 0, 0, 0],\n",
    "    \"Ângulo de reflexão\": [0, 0, 0, 0, 0, 0, 0]\n",
    "})"
   ]
  },
  {
   "cell_type": "markdown",
   "metadata": {},
   "source": [
    "## Refração através de um prisma"
   ]
  },
  {
   "cell_type": "code",
   "execution_count": 23,
   "metadata": {},
   "outputs": [],
   "source": [
    "# Tabela 4. Determinação do índice de refração\n",
    "tabela_4 = pd.DataFrame({\n",
    "    \"dados\": [0, 0, 0, 0],\n",
    "}, index=[\"theta\", \"theta_1\", \"theta_2\", \"n\"])"
   ]
  },
  {
   "cell_type": "markdown",
   "metadata": {},
   "source": [
    "## Polarização"
   ]
  },
  {
   "cell_type": "code",
   "execution_count": 24,
   "metadata": {},
   "outputs": [],
   "source": [
    "# Tabela 5. Intensidade medida em função do ângulo de orientação do receptor\n",
    "tabela_5 = pd.DataFrame({\n",
    "    \"Ângulo do receptor\": [0, 10, 20, 30, 40, 50, 60, 70, 80, 90, 100, 110, 120, 130, 140, 150, 160, 170, 180],\n",
    "    \"Intensidade (mA)\": [0, 0, 0, 0, 0, 0, 0, 0, 0, 0, 0, 0, 0, 0, 0, 0, 0, 0, 0]\n",
    "})\n",
    "# Tabela 6. Intensidade em função do ângulo do polarizador\n",
    "tabela_6 = pd.DataFrame({\n",
    "    \"Ângulo do polarizador \": [0.0, 22.5, 45.0, 67.5, 90.0],\n",
    "    \"Intensidade (mA)\": [0, 0, 0, 0, 0]\n",
    "})\n",
    "# Tabela 7. Intensidade em função da orientação do polarizador com transmissor e receptor alinhados perpendicularmente\n",
    "tabela_7 = pd.DataFrame({\n",
    "    \"Ângulo do polarizador\":[0.0, 90.0, 45.0],\n",
    "    \"Intensidade (mA)\":[0, 0, 0],\n",
    "})\n",
    "\n"
   ]
  },
  {
   "cell_type": "markdown",
   "metadata": {},
   "source": [
    "## Interferência e difração de fenda dupla"
   ]
  },
  {
   "cell_type": "code",
   "execution_count": 25,
   "metadata": {},
   "outputs": [],
   "source": [
    "# Tabela 8. Intensidade medida em função do ângulo de rotação do receptor\n",
    "tabela_8 = pd.DataFrame({\n",
    "    \"Ângulo do receptor\": [0, 5, 10, 15, 20, 25, 30, 35, 40, 45, 50, 55, 60, 65, 70, 75],\n",
    "    \"Intensidade (mA) espaçador curto\": [0, 0, 0, 0, 0, 0, 0, 0, 0, 0, 0, 0, 0, 0, 0, 0],\n",
    "    \"Intensidade (mA) espaçador largo\": [0, 0, 0, 0, 0, 0, 0, 0, 0, 0, 0, 0, 0, 0, 0, 0]\n",
    "})"
   ]
  },
  {
   "cell_type": "markdown",
   "metadata": {},
   "source": [
    "## Ângulo de Brewster"
   ]
  },
  {
   "cell_type": "code",
   "execution_count": 26,
   "metadata": {},
   "outputs": [],
   "source": [
    "tabela_9 = pd.DataFrame({\n",
    "    \"Ângulo\": [20, 25, 30, 35, 40, 0, 0, 0, 0, 0, 0, 0, 0, 0, 0, 0],\n",
    "    \"Intensidade (mA) pol. horizontal\": [0, 0, 0, 0, 0, 0, 0, 0, 0, 0, 0, 0, 0, 0, 0, 0],\n",
    "    \"Intensidade (mA) pol. vertical\": [0, 0, 0, 0, 0, 0, 0, 0, 0, 0, 0, 0, 0, 0, 0, 0]\n",
    "})"
   ]
  },
  {
   "cell_type": "code",
   "execution_count": null,
   "metadata": {},
   "outputs": [],
   "source": []
  }
 ],
 "metadata": {
  "kernelspec": {
   "display_name": "laboratorio-experimental-arA3mNXf-py3.12",
   "language": "python",
   "name": "python3"
  },
  "language_info": {
   "codemirror_mode": {
    "name": "ipython",
    "version": 3
   },
   "file_extension": ".py",
   "mimetype": "text/x-python",
   "name": "python",
   "nbconvert_exporter": "python",
   "pygments_lexer": "ipython3",
   "version": "3.12.3"
  }
 },
 "nbformat": 4,
 "nbformat_minor": 2
}
