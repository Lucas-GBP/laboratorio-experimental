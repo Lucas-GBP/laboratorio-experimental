{
 "cells": [
  {
   "cell_type": "markdown",
   "metadata": {},
   "source": [
    "# Medição da espessura de um fio de cabelo por difração\n",
    "\n",
    "$$d = \\frac{2\\cdot m\\cdot\\lambda\\sqrt{x^2 + (y_m/2)^2}}{y_m}$$\n",
    "$$y_m = \\frac{Y_{\\text{max}}+Y_{\\text{min}}}{2}$$"
   ]
  },
  {
   "cell_type": "code",
   "execution_count": 1,
   "metadata": {},
   "outputs": [],
   "source": [
    "import numpy as np\n",
    "import pandas as pd\n",
    "import matplotlib.pyplot as plt\n",
    "from utils.medicoes import Me, average, sqrt, list2numpy\n",
    "\n",
    "def espessura(lambda_:Me, x:Me, y_m:Me, m:int) -> Me:\n",
    "    return 2*m*lambda_*sqrt(x**2+(y_m/2)**2)/y_m\n",
    "\n",
    "def espessura_arr(lambda_:Me, x:Me, y:list[Me]):\n",
    "    arr:list[Me] = []\n",
    "    for m, y_m in enumerate(y):\n",
    "        arr.append(espessura(lambda_, x, y_m, m+1))\n",
    "    return arr"
   ]
  },
  {
   "cell_type": "markdown",
   "metadata": {},
   "source": [
    "## Dados"
   ]
  },
  {
   "cell_type": "code",
   "execution_count": 2,
   "metadata": {},
   "outputs": [],
   "source": [
    "lambda_ = Me(670, 10, 10**-9) # [Hz] - Frequência do laser \n",
    "\n",
    "def trena(m: float): # [cm] - Trena\n",
    "    return Me(m, 0.1, 10**-2)\n",
    "def regua(m: float): # [cm] - Regua\n",
    "    return Me(m, 0.05, 10**-2)\n",
    "def paqui(m: float): # [mm] - Paquimetro\n",
    "    return Me(m, 0.05, 10**-3)\n",
    "def micro(m: float): # [mm] - Micrometro\n",
    "    return Me(m, 0.005, 10**-3)\n",
    "\n",
    "pessoas = [\"lucas\", \"pamela\", \"gabi\"]\n",
    "dados = {\n",
    "    pessoas[0]: {\n",
    "        \"espessura_micrometro\": None,\n",
    "        \"x\": None,\n",
    "        \"y_arr\": None\n",
    "    },\n",
    "    pessoas[1]: {\n",
    "        \"espessura_micrometro\": None,\n",
    "        \"x\": None,\n",
    "        \"y_arr\": None\n",
    "    },\n",
    "    pessoas[2]: {\n",
    "        \"espessura_micrometro\": None,\n",
    "        \"x\": None,\n",
    "        \"y_arr\": None\n",
    "    },\n",
    "}"
   ]
  },
  {
   "cell_type": "markdown",
   "metadata": {},
   "source": [
    "### Cabelo Lucas"
   ]
  },
  {
   "cell_type": "code",
   "execution_count": 17,
   "metadata": {},
   "outputs": [
    {
     "name": "stdout",
     "output_type": "stream",
     "text": [
      "(71.0 ± 5.0)e-6\n",
      "(88.0 ± 1.3)e-6\n"
     ]
    },
    {
     "data": {
      "text/plain": [
       "[(4400.0 ± 3.5)e-5,\n",
       " (7450.0 ± 3.5)e-5,\n",
       " (10500.0 ± 3.5)e-5,\n",
       " (13610.0 ± 3.5)e-5,\n",
       " (1639.5 ± 3.5)e-4]"
      ]
     },
     "execution_count": 17,
     "metadata": {},
     "output_type": "execute_result"
    }
   ],
   "source": [
    "pessoa = pessoas[0]\n",
    "dados[pessoa][\"espessura_micrometro\"] = micro(0.071)\n",
    "dados[pessoa][\"x\"] = trena(267.75)-trena(30) # [m] - Distância do fio de cabelo com o anteparo\n",
    "dados[pessoa][\"y_arr\"] = [   # Distância entre os máximo de ordem m+1\n",
    "    (paqui(53.55)+paqui(34.45))/2,\n",
    "    (paqui(84.40)+paqui(64.60))/2,\n",
    "    (paqui(114.90)+paqui(95.10))/2,\n",
    "    (paqui(145.00)+paqui(127.20))/2,\n",
    "    (regua(17.26)+regua(15.53))/2\n",
    "]\n",
    "\n",
    "d_arr = espessura_arr(\n",
    "    lambda_ = lambda_,\n",
    "    x = dados[pessoa][\"x\"],\n",
    "    y = dados[pessoa][\"y_arr\"]\n",
    ")\n",
    "print(dados[pessoa][\"espessura_micrometro\"])\n",
    "print(average(d_arr))\n",
    "dados[pessoa][\"y_arr\"]"
   ]
  },
  {
   "cell_type": "markdown",
   "metadata": {},
   "source": [
    "### Cabelo Pamela"
   ]
  },
  {
   "cell_type": "code",
   "execution_count": 4,
   "metadata": {},
   "outputs": [
    {
     "name": "stdout",
     "output_type": "stream",
     "text": [
      "(49.0 ± 5.0)e-6\n",
      "(433.5 ± 6.5)e-7\n"
     ]
    },
    {
     "data": {
      "text/plain": [
       "[(373.7 ± 5.6)e-7, (451.7 ± 6.7)e-7, (475.1 ± 7.1)e-7]"
      ]
     },
     "execution_count": 4,
     "metadata": {},
     "output_type": "execute_result"
    }
   ],
   "source": [
    "pessoa = pessoas[1]\n",
    "dados[pessoa][\"espessura_micrometro\"] = micro(0.049)\n",
    "dados[pessoa][\"x\"] = trena(264.7)-trena(30) # [m] - Distância do fio de cabelo com o anteparo\n",
    "dados[pessoa][\"y_arr\"] = [   # Distância entre os máximo de ordem m+1\n",
    "    (paqui(101.20)+paqui(67.15))/Me(2),\n",
    "    (paqui(155.10)+paqui(123.50))/Me(2),\n",
    "    (regua(21.35)+regua(18.40))/Me(2)\n",
    "]\n",
    "\n",
    "d_arr = espessura_arr(\n",
    "    lambda_ = lambda_,\n",
    "    x = dados[pessoa][\"x\"],\n",
    "    y = dados[pessoa][\"y_arr\"]\n",
    ")\n",
    "print(dados[pessoa][\"espessura_micrometro\"])\n",
    "print(average(d_arr))\n",
    "d_arr"
   ]
  },
  {
   "cell_type": "markdown",
   "metadata": {},
   "source": [
    "### Cabelo Gabi"
   ]
  },
  {
   "cell_type": "code",
   "execution_count": 5,
   "metadata": {},
   "outputs": [
    {
     "name": "stdout",
     "output_type": "stream",
     "text": [
      "(59.0 ± 5.0)e-6\n",
      "(78.2 ± 1.2)e-6\n"
     ]
    },
    {
     "data": {
      "text/plain": [
       "[(649.8 ± 9.7)e-7, (78.8 ± 1.2)e-6, (83.9 ± 1.3)e-6, (85.0 ± 1.3)e-6]"
      ]
     },
     "execution_count": 5,
     "metadata": {},
     "output_type": "execute_result"
    }
   ],
   "source": [
    "pessoa = pessoas[2]\n",
    "dados[pessoa][\"espessura_micrometro\"] = micro(0.059)\n",
    "dados[pessoa][\"x\"] = trena(264.7)-trena(30) # [m] - Distância do fio de cabelo com o anteparo\n",
    "dados[pessoa][\"y_arr\"] = [   # Distância entre os máximo de ordem m+1\n",
    "    (paqui(59.00)+paqui(37.80))/2,\n",
    "    (paqui(90.75)+paqui(68.95))/2,\n",
    "    (paqui(122.90)+paqui(102.20))/2,\n",
    "    (regua(15.8)+regua(13.8))/2,\n",
    "]\n",
    "\n",
    "d_arr = espessura_arr(\n",
    "    lambda_ = lambda_,\n",
    "    x = dados[pessoa][\"x\"],\n",
    "    y = dados[pessoa][\"y_arr\"]\n",
    ")\n",
    "print(dados[pessoa][\"espessura_micrometro\"])\n",
    "print(average(d_arr))\n",
    "d_arr"
   ]
  },
  {
   "cell_type": "code",
   "execution_count": 7,
   "metadata": {},
   "outputs": [
    {
     "name": "stdout",
     "output_type": "stream",
     "text": [
      "[(4400.0 ± 3.5)e-5, (7450.0 ± 3.5)e-5, (10500.0 ± 3.5)e-5, (13610.0 ± 3.5)e-5, (1639.5 ± 3.5)e-4]\n",
      "[[4.40000000e-02 3.53553391e-05]\n",
      " [7.45000000e-02 3.53553391e-05]\n",
      " [1.05000000e-01 3.53553391e-05]\n",
      " [1.36100000e-01 3.53553391e-05]\n",
      " [1.63950000e-01 3.53553391e-04]]\n"
     ]
    }
   ],
   "source": [
    "numpy_arr = list2numpy(dados[pessoas[0]][\"y_arr\"], \"list[[u,m]]\")\n",
    "print(dados[pessoas[0]][\"y_arr\"])\n",
    "print(numpy_arr)"
   ]
  },
  {
   "cell_type": "code",
   "execution_count": null,
   "metadata": {},
   "outputs": [],
   "source": []
  }
 ],
 "metadata": {
  "kernelspec": {
   "display_name": "laboratorio-experimental-arA3mNXf-py3.12",
   "language": "python",
   "name": "python3"
  },
  "language_info": {
   "codemirror_mode": {
    "name": "ipython",
    "version": 3
   },
   "file_extension": ".py",
   "mimetype": "text/x-python",
   "name": "python",
   "nbconvert_exporter": "python",
   "pygments_lexer": "ipython3",
   "version": "3.12.4"
  }
 },
 "nbformat": 4,
 "nbformat_minor": 2
}
