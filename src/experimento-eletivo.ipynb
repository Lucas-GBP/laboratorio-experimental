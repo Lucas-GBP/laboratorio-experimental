{
 "cells": [
  {
   "cell_type": "markdown",
   "metadata": {},
   "source": [
    "# Medição da espessura de um fio de cabelo por difração\n",
    "\n",
    "$$d = \\frac{2\\cdot m\\cdot\\lambda\\sqrt{x^2 + (y_m/2)^2}}{y_m}$$"
   ]
  },
  {
   "cell_type": "code",
   "execution_count": 22,
   "metadata": {},
   "outputs": [],
   "source": [
    "import math\n",
    "import numpy as np\n",
    "import pandas as pd\n",
    "import matplotlib.pyplot as plt\n",
    "\n",
    "from utils.medicoes import (Me, average, sqrt_me as sqrt)\n",
    "\n",
    "def espessura(lambda_:Me, x:Me, y_m:Me, m:int) -> Me:\n",
    "    return 2*m*lambda_*sqrt(x**2+(y_m/2)**2)/y_m\n",
    "\n",
    "def espessura_arr(lambda_:Me, x:Me, y:list[Me]):\n",
    "    arr:list[Me] = []\n",
    "    for m, y_m in enumerate(y):\n",
    "        arr.append(espessura(lambda_, x, y_m, m+1))\n",
    "    return arr\n"
   ]
  },
  {
   "cell_type": "markdown",
   "metadata": {},
   "source": [
    "### Dados"
   ]
  },
  {
   "cell_type": "code",
   "execution_count": 25,
   "metadata": {},
   "outputs": [
    {
     "name": "stdout",
     "output_type": "stream",
     "text": [
      "[0.10198039027185572 ± 0.0, 0.20396078054371145 ± 0.0, 0.30594117081556715 ± 0.0] \n",
      " 0.20396078054371145 ± 0.0\n"
     ]
    }
   ],
   "source": [
    "x = Me(0.01, 0.0) # [m] - Distância do fio de cabelo com o anteparo\n",
    "lambda_ = Me(0.1) # [Hz] - Frequência do laser \n",
    "y = [\n",
    "    Me(0.1),\n",
    "    Me(0.1),\n",
    "    Me(0.1),\n",
    "]\n",
    "\n",
    "d_arr = espessura_arr(\n",
    "    lambda_ = lambda_,\n",
    "    x = x,\n",
    "    y = y\n",
    ")\n",
    "print(d_arr,\"\\n\", average(d_arr))"
   ]
  },
  {
   "cell_type": "code",
   "execution_count": null,
   "metadata": {},
   "outputs": [],
   "source": []
  }
 ],
 "metadata": {
  "kernelspec": {
   "display_name": "laboratorio-experimental-arA3mNXf-py3.12",
   "language": "python",
   "name": "python3"
  },
  "language_info": {
   "codemirror_mode": {
    "name": "ipython",
    "version": 3
   },
   "file_extension": ".py",
   "mimetype": "text/x-python",
   "name": "python",
   "nbconvert_exporter": "python",
   "pygments_lexer": "ipython3",
   "version": "3.12.4"
  }
 },
 "nbformat": 4,
 "nbformat_minor": 2
}
