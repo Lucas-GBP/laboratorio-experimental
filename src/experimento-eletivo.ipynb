{
 "cells": [
  {
   "cell_type": "markdown",
   "metadata": {},
   "source": [
    "# Medição da espessura de um fio de cabelo por difração\n",
    "\n",
    "$$d = \\frac{2\\cdot m\\cdot\\lambda\\sqrt{x^2 + (y_m/2)^2}}{y_m}$$\n",
    "$$y_m = \\frac{Y_{\\text{max}}+Y_{\\text{min}}}{2}$$"
   ]
  },
  {
   "cell_type": "code",
   "execution_count": 69,
   "metadata": {},
   "outputs": [],
   "source": [
    "import math\n",
    "import numpy as np\n",
    "import pandas as pd\n",
    "import matplotlib.pyplot as plt\n",
    "from utils.medicoes import (Me, average, sqrt_me as sqrt)\n",
    "\n",
    "def espessura(lambda_:Me, x:Me, y_m:Me, m:int) -> Me:\n",
    "    return 2*m*lambda_*sqrt(x**2+(y_m/2)**2)/y_m\n",
    "\n",
    "def espessura_arr(lambda_:Me, x:Me, y:list[Me]):\n",
    "    arr:list[Me] = []\n",
    "    for m, y_m in enumerate(y):\n",
    "        arr.append(espessura(lambda_, x, y_m, m+1))\n",
    "    return arr"
   ]
  },
  {
   "cell_type": "markdown",
   "metadata": {},
   "source": [
    "## Dados"
   ]
  },
  {
   "cell_type": "code",
   "execution_count": 70,
   "metadata": {},
   "outputs": [],
   "source": [
    "lambda_ = Me(670, 10, 10**-9) # [Hz] - Frequência do laser \n",
    "\n",
    "def trena(m: float): # [cm]\n",
    "    return Me(m, 0.1, 10**-2)\n",
    "def regua(m: float): # [cm]\n",
    "    return Me(m, 0.05, 10**-2)\n",
    "def paqui(m:float): # [mm]\n",
    "    return Me(m, 0.05, 10**-3)\n",
    "def micro(m:float): # [mm]\n",
    "    return Me(m, 0.005, 10**-3)"
   ]
  },
  {
   "cell_type": "markdown",
   "metadata": {},
   "source": [
    "### Cabelo Lucas"
   ]
  },
  {
   "cell_type": "code",
   "execution_count": 71,
   "metadata": {},
   "outputs": [
    {
     "name": "stdout",
     "output_type": "stream",
     "text": [
      "0.0000710 ± 0.0000050\n",
      "0.0000880 ± 0.0000013\n"
     ]
    },
    {
     "data": {
      "text/plain": [
       "[0.0000724 ± 0.0000011,\n",
       " 0.0000855 ± 0.0000013,\n",
       " 0.0000910 ± 0.0000014,\n",
       " 0.0000937 ± 0.0000014,\n",
       " 0.0000972 ± 0.0000015]"
      ]
     },
     "execution_count": 71,
     "metadata": {},
     "output_type": "execute_result"
    }
   ],
   "source": [
    "espessura_micro = micro(0.071)\n",
    "x = trena(267.75)-trena(30) # [m] - Distância do fio de cabelo com o anteparo\n",
    "y_arr = [   # Distância entre os máximo de ordem m+1\n",
    "    (paqui(53.55)+paqui(34.45))/Me(2),\n",
    "    (paqui(84.40)+paqui(64.60))/Me(2),\n",
    "    (paqui(114.90)+paqui(95.10))/Me(2),\n",
    "    (paqui(145.00)+paqui(127.20))/Me(2),\n",
    "    (regua(17.26)+regua(15.53))/Me(2)\n",
    "]\n",
    "\n",
    "d_arr = espessura_arr(\n",
    "    lambda_ = lambda_,\n",
    "    x = x,\n",
    "    y = y_arr\n",
    ")\n",
    "print(espessura_micro)\n",
    "print(average(d_arr))\n",
    "d_arr"
   ]
  },
  {
   "cell_type": "code",
   "execution_count": 72,
   "metadata": {},
   "outputs": [
    {
     "data": {
      "text/plain": [
       "[<matplotlib.lines.Line2D at 0x7edd58c9f620>]"
      ]
     },
     "execution_count": 72,
     "metadata": {},
     "output_type": "execute_result"
    },
    {
     "data": {
      "image/png": "[encoded data removed]",
      "text/plain": [
       "<Figure size 640x480 with 1 Axes>"
      ]
     },
     "metadata": {},
     "output_type": "display_data"
    }
   ],
   "source": [
    "fig, ax = plt.subplots(1,1)\n",
    "\n",
    "ax.plot([-4,-3,-2,-1,1,2,3,4],)"
   ]
  },
  {
   "cell_type": "markdown",
   "metadata": {},
   "source": [
    "### Cabelo Pamela"
   ]
  },
  {
   "cell_type": "code",
   "execution_count": 73,
   "metadata": {},
   "outputs": [
    {
     "name": "stdout",
     "output_type": "stream",
     "text": [
      "0.0000490 ± 0.0000050\n",
      "0.00004335 ± 0.00000065\n"
     ]
    },
    {
     "data": {
      "text/plain": [
       "[0.00003737 ± 0.00000056, 0.00004517 ± 0.00000067, 0.00004751 ± 0.00000071]"
      ]
     },
     "execution_count": 73,
     "metadata": {},
     "output_type": "execute_result"
    }
   ],
   "source": [
    "espessura_micro = micro(0.049)\n",
    "x = trena(264.7)-trena(30) # [m] - Distância do fio de cabelo com o anteparo\n",
    "y_arr = [   # Distância entre os máximo de ordem m+1\n",
    "    (paqui(101.20)+paqui(67.15))/Me(2),\n",
    "    (paqui(155.10)+paqui(123.50))/Me(2),\n",
    "    (regua(21.35)+regua(18.40))/Me(2)\n",
    "]\n",
    "\n",
    "d_arr = espessura_arr(\n",
    "    lambda_ = lambda_,\n",
    "    x = x,\n",
    "    y = y_arr\n",
    ")\n",
    "print(espessura_micro)\n",
    "print(average(d_arr))\n",
    "d_arr"
   ]
  },
  {
   "cell_type": "markdown",
   "metadata": {},
   "source": [
    "### Cabelo Gabi"
   ]
  },
  {
   "cell_type": "code",
   "execution_count": 74,
   "metadata": {},
   "outputs": [
    {
     "name": "stdout",
     "output_type": "stream",
     "text": [
      "0.0000590 ± 0.0000050\n",
      "0.0000759 ± 0.0000011\n"
     ]
    },
    {
     "data": {
      "text/plain": [
       "[0.00006498 ± 0.00000097, 0.0000788 ± 0.0000012, 0.0000839 ± 0.0000013]"
      ]
     },
     "execution_count": 74,
     "metadata": {},
     "output_type": "execute_result"
    }
   ],
   "source": [
    "espessura_micro = micro(0.059)\n",
    "x = trena(264.7)-trena(30) # [m] - Distância do fio de cabelo com o anteparo\n",
    "y_arr = [   # Distância entre os máximo de ordem m+1\n",
    "    (paqui(59.00)+paqui(37.80))/Me(2),\n",
    "    (paqui(90.75)+paqui(68.95))/Me(2),\n",
    "    (paqui(122.90)+paqui(102.20))/Me(2),\n",
    "    #(regua(15.8)+regua(13.8))/Me(2),\n",
    "]\n",
    "\n",
    "d_arr = espessura_arr(\n",
    "    lambda_ = lambda_,\n",
    "    x = x,\n",
    "    y = y_arr\n",
    ")\n",
    "print(espessura_micro)\n",
    "print(average(d_arr))\n",
    "d_arr"
   ]
  },
  {
   "cell_type": "code",
   "execution_count": null,
   "metadata": {},
   "outputs": [],
   "source": []
  }
 ],
 "metadata": {
  "kernelspec": {
   "display_name": "laboratorio-experimental-arA3mNXf-py3.12",
   "language": "python",
   "name": "python3"
  },
  "language_info": {
   "codemirror_mode": {
    "name": "ipython",
    "version": 3
   },
   "file_extension": ".py",
   "mimetype": "text/x-python",
   "name": "python",
   "nbconvert_exporter": "python",
   "pygments_lexer": "ipython3",
   "version": "3.12.4"
  }
 },
 "nbformat": 4,
 "nbformat_minor": 2
}
