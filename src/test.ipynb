{
 "cells": [
  {
   "cell_type": "code",
   "execution_count": 1,
   "metadata": {},
   "outputs": [
    {
     "name": "stdout",
     "output_type": "stream",
     "text": [
      "2.259 ± 0.050\n"
     ]
    },
    {
     "ename": "ZeroDivisionError",
     "evalue": "division by zero",
     "output_type": "error",
     "traceback": [
      "\u001b[0;31m---------------------------------------------------------------------------\u001b[0m",
      "\u001b[0;31mZeroDivisionError\u001b[0m                         Traceback (most recent call last)",
      "Cell \u001b[0;32mIn[1], line 8\u001b[0m\n\u001b[1;32m      5\u001b[0m b \u001b[38;5;241m=\u001b[39m Me(\u001b[38;5;241m2.2588\u001b[39m, \u001b[38;5;241m.05\u001b[39m)\n\u001b[1;32m      6\u001b[0m c \u001b[38;5;241m=\u001b[39m Me(\u001b[38;5;241m500.4\u001b[39m, \u001b[38;5;241m5\u001b[39m)\n\u001b[0;32m----> 8\u001b[0m d \u001b[38;5;241m=\u001b[39m (a\u001b[38;5;241m*\u001b[39m\u001b[38;5;241m*\u001b[39mb)\u001b[38;5;241m/\u001b[39m\u001b[38;5;241m2\u001b[39m \u001b[38;5;241m+\u001b[39m \u001b[43ma\u001b[49m\u001b[38;5;241;43m*\u001b[39;49m\u001b[43mb\u001b[49m\n",
      "File \u001b[0;32m~/Documents/UFSC/Repositorios/laboratorio-experimental/src/utils/medicoes.py:51\u001b[0m, in \u001b[0;36mMe.__mul__\u001b[0;34m(self, other)\u001b[0m\n\u001b[1;32m     49\u001b[0m \u001b[38;5;28;01mif\u001b[39;00m \u001b[38;5;28misinstance\u001b[39m(other, \u001b[38;5;28mself\u001b[39m\u001b[38;5;241m.\u001b[39m\u001b[38;5;18m__class__\u001b[39m):\n\u001b[1;32m     50\u001b[0m     m \u001b[38;5;241m=\u001b[39m \u001b[38;5;28mself\u001b[39m\u001b[38;5;241m.\u001b[39mm\u001b[38;5;241m*\u001b[39mother\u001b[38;5;241m.\u001b[39mm\n\u001b[0;32m---> 51\u001b[0m     \u001b[38;5;28;01mreturn\u001b[39;00m Me(m, m\u001b[38;5;241m*\u001b[39msqrt((\u001b[38;5;28;43mself\u001b[39;49m\u001b[38;5;241;43m.\u001b[39;49m\u001b[43mu\u001b[49m\u001b[38;5;241;43m/\u001b[39;49m\u001b[38;5;28;43mself\u001b[39;49m\u001b[38;5;241;43m.\u001b[39;49m\u001b[43mm\u001b[49m)\u001b[38;5;241m*\u001b[39m\u001b[38;5;241m*\u001b[39m\u001b[38;5;241m2\u001b[39m \u001b[38;5;241m+\u001b[39m (other\u001b[38;5;241m.\u001b[39mu\u001b[38;5;241m/\u001b[39mother\u001b[38;5;241m.\u001b[39mm)\u001b[38;5;241m*\u001b[39m\u001b[38;5;241m*\u001b[39m\u001b[38;5;241m2\u001b[39m))\n\u001b[1;32m     52\u001b[0m \u001b[38;5;28;01melse\u001b[39;00m:\n\u001b[1;32m     53\u001b[0m     \u001b[38;5;28;01mreturn\u001b[39;00m Me(\u001b[38;5;28mself\u001b[39m\u001b[38;5;241m.\u001b[39mm\u001b[38;5;241m*\u001b[39mother, \u001b[38;5;28mself\u001b[39m\u001b[38;5;241m.\u001b[39mu\u001b[38;5;241m*\u001b[39mother)\n",
      "\u001b[0;31mZeroDivisionError\u001b[0m: division by zero"
     ]
    }
   ],
   "source": [
    "from math import log10, floor\n",
    "from utils.medicoes import Me, sqrt_me\n",
    "\n",
    "a = Me(0, 0)\n",
    "b = Me(2.2588, .05)\n",
    "c = Me(500.4, 5)\n",
    "\n",
    "d = (a**b)/2 + a*b"
   ]
  },
  {
   "cell_type": "code",
   "execution_count": null,
   "metadata": {},
   "outputs": [
    {
     "data": {
      "text/plain": [
       "'0.000100 ± 0.000010'"
      ]
     },
     "execution_count": 2,
     "metadata": {},
     "output_type": "execute_result"
    }
   ],
   "source": [
    "teste = Me(0.0001, 0.00001)\n",
    "\n",
    "def represente(a:Me, signf:int):\n",
    "    decimal = signf - (floor(log10(a.u))+1)\n",
    "    if decimal >= 0:\n",
    "        return f\"{a.m:.{decimal}f} ± {a.u:.{decimal}f}\"\n",
    "    \n",
    "    factor = 10**decimal\n",
    "    decimal = -decimal\n",
    "    return f\"( {(a.m*factor):.{decimal}f} ± {(a.u*factor):.0f} )x10^{decimal}\"\n",
    "\n",
    "represente(teste, 2)"
   ]
  },
  {
   "cell_type": "code",
   "execution_count": null,
   "metadata": {},
   "outputs": [],
   "source": []
  }
 ],
 "metadata": {
  "kernelspec": {
   "display_name": "laboratorio-experimental-arA3mNXf-py3.12",
   "language": "python",
   "name": "python3"
  },
  "language_info": {
   "codemirror_mode": {
    "name": "ipython",
    "version": 3
   },
   "file_extension": ".py",
   "mimetype": "text/x-python",
   "name": "python",
   "nbconvert_exporter": "python",
   "pygments_lexer": "ipython3",
   "version": "3.12.4"
  }
 },
 "nbformat": 4,
 "nbformat_minor": 2
}
