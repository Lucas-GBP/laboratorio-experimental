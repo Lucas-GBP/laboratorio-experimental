{
 "cells": [
  {
   "cell_type": "code",
   "execution_count": 2,
   "metadata": {},
   "outputs": [
    {
     "name": "stdout",
     "output_type": "stream",
     "text": [
      "2.259 ± 0.050\n"
     ]
    }
   ],
   "source": [
    "from math import log10, floor\n",
    "from utils.medicoes import Me, sqrt_me\n",
    "\n",
    "a = Me(0.01, 0)\n",
    "b = Me(2.2588, .05)\n",
    "c = Me(500.4, 5)\n",
    "\n",
    "d = (a**b)/2 + a*b"
   ]
  },
  {
   "cell_type": "code",
   "execution_count": null,
   "metadata": {},
   "outputs": [
    {
     "data": {
      "text/plain": [
       "'0.000100 ± 0.000010'"
      ]
     },
     "execution_count": 2,
     "metadata": {},
     "output_type": "execute_result"
    }
   ],
   "source": [
    "teste = Me(0.0001, 0.00001)\n",
    "\n",
    "def represente(a:Me, signf:int):\n",
    "    decimal = signf - (floor(log10(a.u))+1)\n",
    "    if decimal >= 0:\n",
    "        return f\"{a.m:.{decimal}f} ± {a.u:.{decimal}f}\"\n",
    "    \n",
    "    factor = 10**decimal\n",
    "    decimal = -decimal\n",
    "    return f\"( {(a.m*factor):.{decimal}f} ± {(a.u*factor):.0f} )x10^{decimal}\"\n",
    "\n",
    "represente(teste, 2)"
   ]
  },
  {
   "cell_type": "code",
   "execution_count": null,
   "metadata": {},
   "outputs": [],
   "source": []
  }
 ],
 "metadata": {
  "kernelspec": {
   "display_name": "laboratorio-experimental-arA3mNXf-py3.12",
   "language": "python",
   "name": "python3"
  },
  "language_info": {
   "codemirror_mode": {
    "name": "ipython",
    "version": 3
   },
   "file_extension": ".py",
   "mimetype": "text/x-python",
   "name": "python",
   "nbconvert_exporter": "python",
   "pygments_lexer": "ipython3",
   "version": "3.12.4"
  }
 },
 "nbformat": 4,
 "nbformat_minor": 2
}
